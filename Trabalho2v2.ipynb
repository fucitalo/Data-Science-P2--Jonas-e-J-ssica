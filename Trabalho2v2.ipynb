{
 "cells": [
  {
   "cell_type": "code",
   "execution_count": 5,
   "metadata": {},
   "outputs": [],
   "source": [
    "import pandas as pd\n",
    "import seaborn as sb\n",
    "import matplotlib.pyplot as plt\n",
    "low_memory=False\n",
    "%matplotlib inline\n",
    "pd.options.display.max_columns = 80\n",
    "pd.options.display.max_rows = 90"
   ]
  },
  {
   "cell_type": "code",
   "execution_count": null,
   "metadata": {},
   "outputs": [],
   "source": []
  },
  {
   "cell_type": "code",
   "execution_count": 6,
   "metadata": {},
   "outputs": [
    {
     "name": "stdout",
     "output_type": "stream",
     "text": [
      "  CO_ANO  CO_IES                               NO_IES SG_IES       NU_CNPJ  \\\n",
      "0   2011     1.0  UNIVERSIDADE FEDERAL DE MATO GROSSO   UFMT  3.300000e+13   \n",
      "1   2011     2.0             UNIVERSIDADE DE BRASÍLIA    UNB  3.817400e+10   \n",
      "2   2011     3.0      UNIVERSIDADE FEDERAL DE SERGIPE    UFS  1.300000e+13   \n",
      "3   2011     4.0     UNIVERSIDADE FEDERAL DO AMAZONAS   UFAM  4.380000e+12   \n",
      "4   2011     5.0        UNIVERSIDADE FEDERAL DO PIAUÍ   UFPI  6.520000e+12   \n",
      "\n",
      "   REGIES     REGIAOIES  COUFIES         NOMEUFIES SIGLA   MUNICIPIOIES  \\\n",
      "0     5.0  Centro_Oeste     51.0       MATO GROSSO    MT         CUIABA   \n",
      "1     5.0  Centro_Oeste     53.0  DISTRITO FEDERAL    DF       BRASILIA   \n",
      "2     2.0      Nordeste     28.0           SERGIPE    SE  SAO CRISTOVAO   \n",
      "3     1.0         Norte     13.0          AMAZONAS    AM         MANAUS   \n",
      "4     2.0      Nordeste     22.0             PIAUÍ    PI       TERESINA   \n",
      "\n",
      "   COMUNICIES  COMUNICIES12  LOCIES  LOCALIES  ORG       NOMEORG  COREDE  \\\n",
      "0   5103403.0  5.100000e+11     1.0   Capital  1.0  Universidade     1.0   \n",
      "1   5300108.0  5.300000e+11     1.0   Capital  1.0  Universidade     1.0   \n",
      "2   2806701.0  2.800000e+11     2.0  Interior  1.0  Universidade     1.0   \n",
      "3   1302603.0  1.300000e+11     1.0   Capital  1.0  Universidade     1.0   \n",
      "4   2211001.0  2.200000e+11     1.0   Capital  1.0  Universidade     1.0   \n",
      "\n",
      "      REDE  CO_DEP   DEPADM  DEP5  DEPADM5     MANT  \\\n",
      "0  Pública     1.0  Federal   1.0  Federal      1.0   \n",
      "1  Pública     1.0  Federal   1.0  Federal      2.0   \n",
      "2  Pública     1.0  Federal   1.0  Federal      3.0   \n",
      "3  Pública     1.0  Federal   1.0  Federal      4.0   \n",
      "4  Pública     1.0  Federal   1.0  Federal  14054.0   \n",
      "\n",
      "                                    MANTENEDORA      NU_CEP  \\\n",
      "0  FUNDACAO UNIVERSIDADE FEDERAL DE MATO GROSSO  78060900.0   \n",
      "1             FUNDACAO UNIVERSIDADE DE BRASILIA  70910900.0   \n",
      "2      FUNDACAO UNIVERSIDADE FEDERAL DE SERGIPE  49100000.0   \n",
      "3             FUNDACAO UNIVERSIDADE DO AMAZONAS  69077000.0   \n",
      "4        FUNDACAO UNIVERSIDADE FEDERAL DO PIAUI  64049550.0   \n",
      "\n",
      "                                      DS_ENDERECO DS_NUMERO_ENDERECO  \\\n",
      "0                Avenida Fernando Correa da Costa               2367   \n",
      "1              Campus Universitário Darcy Ribeiro                s/n   \n",
      "2                         Avenida Marechal Rondon                s/n   \n",
      "3                              Av. Rodrigo Otávio               6200   \n",
      "4  Campus Universitário Ministro Petrônio Portela                s/n   \n",
      "\n",
      "  DS_COMPLEMENTO_ENDERECO         NO_BAIRRO  \\\n",
      "0    Cidade Universitária     Boa Esperança   \n",
      "1                     NaN         Asa Norte   \n",
      "2                     NaN  Jardim Rosa Elze   \n",
      "3    Campus Universitário        Coroado II   \n",
      "4                 SG - 07            Ininga   \n",
      "\n",
      "                                      NU_TELEFONE  \\\n",
      "0                                  (65) 3615 8302   \n",
      "1                             (61) 3307-1750/2600   \n",
      "2                                  (79) 2105-6408   \n",
      "3                                  (92) 3305-4513   \n",
      "4  (86) 3215 5620; (86) 3215 5621; (86) 3215 1104   \n",
      "\n",
      "                          NU_FAX  \\\n",
      "0                            NaN   \n",
      "1                            NaN   \n",
      "2                 (79) 2105-6474   \n",
      "3                 (92) 3305-4532   \n",
      "4  (86) 3215 5880; (86)3215 1104   \n",
      "\n",
      "                                            TX_EMAIL TX_PAGINA_ELETRONICA  \\\n",
      "0                                       ufmt@ufmt.br          www.ufmt.br   \n",
      "1                                         unb@unb.br    http://www.unb.br   \n",
      "2                                    gabinete@ufs.br           www.ufs.br   \n",
      "3                               gabinete@ufam.edu.br      www.ufam.edu.br   \n",
      "4  diretoria.avaliacao@ufpi.edu.br;adm.sup@ufpi.e...   http://www.ufpi.br   \n",
      "\n",
      "             NO_PROCURADOR_INSTITUCIONAL  NU_CPF_PROCURADOR  \\\n",
      "0      MARIA SALETI FERRAZ DIAS FERREIRA       4.077210e+09   \n",
      "1     PAULO EDUARDO NUNES DE MOURA ROCHA       3.767993e+10   \n",
      "2            ANGELA MARIA CARVALHO SOUZA       3.843460e+09   \n",
      "3               SIGRID INHAMUNS PINHEIRO       2.145104e+10   \n",
      "4  TERESA CHRISTINA TORRES SILVA HONÓRIO       1.510211e+10   \n",
      "\n",
      "  NU_TELEFONE_PROCURADOR                                TX_EMAIL_PROCURADOR  \\\n",
      "0           (65)36158200  saletif@gmail.com.br; saleti@ufmt.br; josiane@...   \n",
      "1            61 33072207                                  paulorocha@unb.br   \n",
      "2           (79)21056515                                      angela@ufs.br   \n",
      "3          (92)3305-4615                            proplan_dpi@ufam.edu.br   \n",
      "4            86 32151104         teresaufpi@hotmail.com;pi.ufpi@ufpi.edu.br   \n",
      "\n",
      "   NIES  \n",
      "0   1.0  \n",
      "1   1.0  \n",
      "2   1.0  \n",
      "3   1.0  \n",
      "4   1.0  \n"
     ]
    }
   ],
   "source": [
    "dados = pd.read_excel('CADASTRO-IES.xls',\n",
    "                      sheet_name='CADASTRO-IES')\n",
    "print (dados.head())"
   ]
  },
  {
   "cell_type": "code",
   "execution_count": null,
   "metadata": {},
   "outputs": [],
   "source": []
  },
  {
   "cell_type": "code",
   "execution_count": 7,
   "metadata": {},
   "outputs": [
    {
     "data": {
      "image/png": "[encoded data removed]",
      "text/plain": [
       "<Figure size 432x288 with 1 Axes>"
      ]
     },
     "metadata": {},
     "output_type": "display_data"
    }
   ],
   "source": [
    "legendas = 'Sudeste Sul Nordeste Norte Centro_Oeste'.split()\n",
    "plt.axis('equal')\n",
    "plt.pie(dados['REGIAOIES'].value_counts(), autopct=\"%.2f\",\n",
    "        labels=legendas, explode = [0,0,0,0,0])\n",
    "plt.suptitle(\"Percentual de universidades do Brasil por região\")\n",
    "\n",
    "plt.show()"
   ]
  },
  {
   "cell_type": "code",
   "execution_count": null,
   "metadata": {},
   "outputs": [],
   "source": []
  },
  {
   "cell_type": "code",
   "execution_count": 8,
   "metadata": {},
   "outputs": [
    {
     "data": {
      "text/plain": [
       "Sudeste         1157\n",
       "Nordeste         432\n",
       "Sul              389\n",
       "Centro_Oeste     235\n",
       "Norte            152\n",
       "Name: REGIAOIES, dtype: int64"
      ]
     },
     "execution_count": 8,
     "metadata": {},
     "output_type": "execute_result"
    }
   ],
   "source": [
    "dados[\"REGIAOIES\"].value_counts()"
   ]
  },
  {
   "cell_type": "code",
   "execution_count": null,
   "metadata": {},
   "outputs": [],
   "source": []
  },
  {
   "cell_type": "code",
   "execution_count": 19,
   "metadata": {},
   "outputs": [],
   "source": [
    "dados.rename(columns={'NOMEUFIES': 'FACULDADES POR ESTADO'}, inplace=True)"
   ]
  },
  {
   "cell_type": "code",
   "execution_count": 21,
   "metadata": {},
   "outputs": [],
   "source": [
    "dados.rename(columns={'FACULDADES POR ESTADO': 'FACULDADES_POR_ESTADO'}, inplace=True)"
   ]
  },
  {
   "cell_type": "code",
   "execution_count": null,
   "metadata": {},
   "outputs": [],
   "source": []
  },
  {
   "cell_type": "code",
   "execution_count": 22,
   "metadata": {},
   "outputs": [
    {
     "data": {
      "text/plain": [
       "<matplotlib.axes._subplots.AxesSubplot at 0x123d6530>"
      ]
     },
     "execution_count": 22,
     "metadata": {},
     "output_type": "execute_result"
    },
    {
     "data": {
      "image/png": "[encoded data removed]",
      "text/plain": [
       "<Figure size 720x720 with 1 Axes>"
      ]
     },
     "metadata": {
      "needs_background": "light"
     },
     "output_type": "display_data"
    }
   ],
   "source": [
    "dados.groupby('FACULDADES_POR_ESTADO').size().sort_values().tail(27).plot(kind='barh', figsize=(10,10))"
   ]
  },
  {
   "cell_type": "code",
   "execution_count": null,
   "metadata": {},
   "outputs": [],
   "source": []
  },
  {
   "cell_type": "code",
   "execution_count": 23,
   "metadata": {},
   "outputs": [
    {
     "data": {
      "text/plain": [
       "SÃO PAULO              577\n",
       "MINAS GERAIS           355\n",
       "PARANÁ                 185\n",
       "RIO DE JANEIRO         137\n",
       "BAHIA                  115\n",
       "RIO GRANDE DO SUL      111\n",
       "PERNAMBUCO              94\n",
       "SANTA CATARINA          93\n",
       "ESPÍRITO SANTO          88\n",
       "GOIÁS                   82\n",
       "DISTRITO FEDERAL        59\n",
       "MATO GROSSO             57\n",
       "CEARÁ                   53\n",
       "PARAÍBA                 38\n",
       "PIAUÍ                   37\n",
       "MATO GROSSO DO SUL      37\n",
       "TOCANTINS               34\n",
       "PARÁ                    33\n",
       "RONDÔNIA                32\n",
       "MARANHÃO                30\n",
       "ALAGOAS                 26\n",
       "RIO GRANDE DO NORTE     25\n",
       "AMAZONAS                19\n",
       "AMAPÁ                   16\n",
       "SERGIPE                 14\n",
       "ACRE                    11\n",
       "RORAIMA                  7\n",
       "Name: FACULDADES_POR_ESTADO, dtype: int64"
      ]
     },
     "execution_count": 23,
     "metadata": {},
     "output_type": "execute_result"
    }
   ],
   "source": [
    "dados[\"FACULDADES_POR_ESTADO\"].value_counts()"
   ]
  },
  {
   "cell_type": "code",
   "execution_count": null,
   "metadata": {},
   "outputs": [],
   "source": []
  }
 ],
 "metadata": {
  "kernelspec": {
   "display_name": "Python 3",
   "language": "python",
   "name": "python3"
  },
  "language_info": {
   "codemirror_mode": {
    "name": "ipython",
    "version": 3
   },
   "file_extension": ".py",
   "mimetype": "text/x-python",
   "name": "python",
   "nbconvert_exporter": "python",
   "pygments_lexer": "ipython3",
   "version": "3.7.0"
  }
 },
 "nbformat": 4,
 "nbformat_minor": 2
}
